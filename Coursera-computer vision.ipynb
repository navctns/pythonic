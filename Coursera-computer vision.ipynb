{
 "cells": [
  {
   "cell_type": "code",
   "execution_count": 1,
   "metadata": {},
   "outputs": [],
   "source": [
    "import PIL"
   ]
  },
  {
   "cell_type": "code",
   "execution_count": 2,
   "metadata": {},
   "outputs": [],
   "source": [
    "#PIL.__version__"
   ]
  },
  {
   "cell_type": "code",
   "execution_count": 3,
   "metadata": {},
   "outputs": [
    {
     "name": "stdout",
     "output_type": "stream",
     "text": [
      "Help on package PIL:\n",
      "\n",
      "NAME\n",
      "    PIL\n",
      "\n",
      "DESCRIPTION\n",
      "    # The Python Imaging Library.\n",
      "    # $Id$\n",
      "    #\n",
      "    # package placeholder\n",
      "    #\n",
      "    # Copyright (c) 1999 by Secret Labs AB.\n",
      "    #\n",
      "    # See the README file for information on usage and redistribution.\n",
      "    #\n",
      "\n",
      "PACKAGE CONTENTS\n",
      "    BdfFontFile\n",
      "    BmpImagePlugin\n",
      "    BufrStubImagePlugin\n",
      "    ContainerIO\n",
      "    CurImagePlugin\n",
      "    DcxImagePlugin\n",
      "    EpsImagePlugin\n",
      "    ExifTags\n",
      "    FitsStubImagePlugin\n",
      "    FliImagePlugin\n",
      "    FontFile\n",
      "    FpxImagePlugin\n",
      "    GbrImagePlugin\n",
      "    GdImageFile\n",
      "    GifImagePlugin\n",
      "    GimpGradientFile\n",
      "    GimpPaletteFile\n",
      "    GribStubImagePlugin\n",
      "    Hdf5StubImagePlugin\n",
      "    IcnsImagePlugin\n",
      "    IcoImagePlugin\n",
      "    ImImagePlugin\n",
      "    Image\n",
      "    ImageChops\n",
      "    ImageCms\n",
      "    ImageColor\n",
      "    ImageDraw\n",
      "    ImageDraw2\n",
      "    ImageEnhance\n",
      "    ImageFile\n",
      "    ImageFilter\n",
      "    ImageFont\n",
      "    ImageGrab\n",
      "    ImageMath\n",
      "    ImageMode\n",
      "    ImageMorph\n",
      "    ImageOps\n",
      "    ImagePalette\n",
      "    ImagePath\n",
      "    ImageQt\n",
      "    ImageSequence\n",
      "    ImageShow\n",
      "    ImageStat\n",
      "    ImageTransform\n",
      "    ImageWin\n",
      "    ImtImagePlugin\n",
      "    IptcImagePlugin\n",
      "    Jpeg2KImagePlugin\n",
      "    JpegImagePlugin\n",
      "    JpegPresets\n",
      "    McIdasImagePlugin\n",
      "    MicImagePlugin\n",
      "    MpegImagePlugin\n",
      "    MpoImagePlugin\n",
      "    MspImagePlugin\n",
      "    OleFileIO\n",
      "    PSDraw\n",
      "    PaletteFile\n",
      "    PalmImagePlugin\n",
      "    PcdImagePlugin\n",
      "    PcfFontFile\n",
      "    PcxImagePlugin\n",
      "    PdfImagePlugin\n",
      "    PixarImagePlugin\n",
      "    PngImagePlugin\n",
      "    PpmImagePlugin\n",
      "    PsdImagePlugin\n",
      "    PyAccess\n",
      "    SgiImagePlugin\n",
      "    SpiderImagePlugin\n",
      "    SunImagePlugin\n",
      "    TarIO\n",
      "    TgaImagePlugin\n",
      "    TiffImagePlugin\n",
      "    TiffTags\n",
      "    WalImageFile\n",
      "    WebPImagePlugin\n",
      "    WmfImagePlugin\n",
      "    XVThumbImagePlugin\n",
      "    XbmImagePlugin\n",
      "    XpmImagePlugin\n",
      "    _binary\n",
      "    _imaging\n",
      "    _imagingcms\n",
      "    _imagingft\n",
      "    _imagingmath\n",
      "    _imagingmorph\n",
      "    _util\n",
      "    _webp\n",
      "    features\n",
      "\n",
      "DATA\n",
      "    PILLOW_VERSION = '3.1.2'\n",
      "    VERSION = '1.1.7'\n",
      "\n",
      "FILE\n",
      "    /usr/lib/python3/dist-packages/PIL/__init__.py\n",
      "\n",
      "\n"
     ]
    }
   ],
   "source": [
    "help(PIL)"
   ]
  },
  {
   "cell_type": "code",
   "execution_count": 7,
   "metadata": {},
   "outputs": [],
   "source": [
    "from PIL import Image"
   ]
  },
  {
   "cell_type": "code",
   "execution_count": 8,
   "metadata": {},
   "outputs": [
    {
     "name": "stdout",
     "output_type": "stream",
     "text": [
      "Help on function open in module PIL.Image:\n",
      "\n",
      "open(fp, mode='r')\n",
      "    Opens and identifies the given image file.\n",
      "    \n",
      "    This is a lazy operation; this function identifies the file, but\n",
      "    the file remains open and the actual image data is not read from\n",
      "    the file until you try to process the data (or call the\n",
      "    :py:meth:`~PIL.Image.Image.load` method).  See\n",
      "    :py:func:`~PIL.Image.new`.\n",
      "    \n",
      "    :param fp: A filename (string), pathlib.Path object or a file object.\n",
      "       The file object must implement :py:meth:`~file.read`,\n",
      "       :py:meth:`~file.seek`, and :py:meth:`~file.tell` methods,\n",
      "       and be opened in binary mode.\n",
      "    :param mode: The mode.  If given, this argument must be \"r\".\n",
      "    :returns: An :py:class:`~PIL.Image.Image` object.\n",
      "    :exception IOError: If the file cannot be found, or the image cannot be\n",
      "       opened and identified.\n",
      "\n"
     ]
    }
   ],
   "source": [
    "help(Image.open)"
   ]
  },
  {
   "cell_type": "code",
   "execution_count": 15,
   "metadata": {},
   "outputs": [
    {
     "name": "stdout",
     "output_type": "stream",
     "text": [
      "<PIL.JpegImagePlugin.JpegImageFile image mode=RGB size=910x480 at 0x7FDA181DE2E8>\n"
     ]
    }
   ],
   "source": [
    "file=\"1.jpg\"\n",
    "image=Image.open(file)\n",
    "print(image)"
   ]
  },
  {
   "cell_type": "code",
   "execution_count": 16,
   "metadata": {},
   "outputs": [
    {
     "name": "stdout",
     "output_type": "stream",
     "text": [
      "The type of the image is:<class 'PIL.JpegImagePlugin.JpegImageFile'>\n"
     ]
    },
    {
     "data": {
      "text/plain": [
       "(PIL.JpegImagePlugin.JpegImageFile,\n",
       " PIL.ImageFile.ImageFile,\n",
       " PIL.Image.Image,\n",
       " object)"
      ]
     },
     "execution_count": 16,
     "metadata": {},
     "output_type": "execute_result"
    }
   ],
   "source": [
    "import inspect\n",
    "print(\"The type of the image is:\"+str(type(image)))\n",
    "inspect.getmro(type(image))"
   ]
  },
  {
   "cell_type": "code",
   "execution_count": 17,
   "metadata": {},
   "outputs": [],
   "source": [
    "image.show()"
   ]
  },
  {
   "cell_type": "code",
   "execution_count": 18,
   "metadata": {},
   "outputs": [
    {
     "ename": "ImportError",
     "evalue": "No module named 'Ipython'",
     "output_type": "error",
     "traceback": [
      "\u001b[0;31m---------------------------------------------------------------------------\u001b[0m",
      "\u001b[0;31mImportError\u001b[0m                               Traceback (most recent call last)",
      "\u001b[0;32m<ipython-input-18-ba6607c5b753>\u001b[0m in \u001b[0;36m<module>\u001b[0;34m\u001b[0m\n\u001b[0;32m----> 1\u001b[0;31m \u001b[0;32mfrom\u001b[0m \u001b[0mIpython\u001b[0m\u001b[0;34m.\u001b[0m\u001b[0mdisplay\u001b[0m \u001b[0;32mimport\u001b[0m \u001b[0mdisplay\u001b[0m\u001b[0;34m\u001b[0m\u001b[0m\n\u001b[0m",
      "\u001b[0;31mImportError\u001b[0m: No module named 'Ipython'"
     ]
    }
   ],
   "source": [
    "from Ipython.display import display"
   ]
  },
  {
   "cell_type": "code",
   "execution_count": 19,
   "metadata": {},
   "outputs": [
    {
     "ename": "ImportError",
     "evalue": "No module named 'ipython'",
     "output_type": "error",
     "traceback": [
      "\u001b[0;31m---------------------------------------------------------------------------\u001b[0m",
      "\u001b[0;31mImportError\u001b[0m                               Traceback (most recent call last)",
      "\u001b[0;32m<ipython-input-19-997b75861cca>\u001b[0m in \u001b[0;36m<module>\u001b[0;34m\u001b[0m\n\u001b[0;32m----> 1\u001b[0;31m \u001b[0;32mfrom\u001b[0m \u001b[0mipython\u001b[0m\u001b[0;34m.\u001b[0m\u001b[0mdisplay\u001b[0m \u001b[0;32mimport\u001b[0m \u001b[0mdisplay\u001b[0m\u001b[0;34m\u001b[0m\u001b[0m\n\u001b[0m",
      "\u001b[0;31mImportError\u001b[0m: No module named 'ipython'"
     ]
    }
   ],
   "source": [
    "from ipython.display import display"
   ]
  },
  {
   "cell_type": "code",
   "execution_count": null,
   "metadata": {},
   "outputs": [],
   "source": []
  }
 ],
 "metadata": {
  "kernelspec": {
   "display_name": "Python 3",
   "language": "python",
   "name": "python3"
  },
  "language_info": {
   "codemirror_mode": {
    "name": "ipython",
    "version": 3
   },
   "file_extension": ".py",
   "mimetype": "text/x-python",
   "name": "python",
   "nbconvert_exporter": "python",
   "pygments_lexer": "ipython3",
   "version": "3.5.2"
  }
 },
 "nbformat": 4,
 "nbformat_minor": 2
}
