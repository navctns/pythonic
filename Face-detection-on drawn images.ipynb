{
 "cells": [
  {
   "cell_type": "code",
   "execution_count": 1,
   "metadata": {},
   "outputs": [
    {
     "data": {
      "text/plain": [
       "<matplotlib.image.AxesImage at 0x7f54f62da9b0>"
      ]
     },
     "execution_count": 1,
     "metadata": {},
     "output_type": "execute_result"
    }
   ],
   "source": [
    "import numpy as np\n",
    "import cv2 as cv\n",
    "import matplotlib.pyplot as plt\n",
    "\n",
    "#img1=cv.imread('/home/naveen/Datasets/test_images/face.jpg')\n",
    "face_cascade=cv.CascadeClassifier('/home/naveen/opencv/data/haarcascades_cuda/haarcascade_frontalface_default.xml')\n",
    "eye_cascade=cv.CascadeClassifier('/home/naveen/opencv/data/haarcascades_cuda/haarcascade_eye.xml')\n",
    "\n",
    "def read_image(file_name,path='/home/naveen/Datasets/test_images/'):\n",
    "    \"\"\"\n",
    "        reads an image from the location specified---\n",
    "        \n",
    "        Arguments:\n",
    "        \n",
    "        path: file_location\n",
    "        file_name: name of th file (with extention)\n",
    "        \n",
    "        Returns\n",
    "        \n",
    "        image file readed as ndarray\n",
    "    \"\"\"\n",
    "    return cv.imread(path+str(file_name))\n",
    "\n",
    "img=cv.imread('/home/naveen/Datasets/test_images/faces1.jpg')\n",
    "#img=cv.imread('anim_char.png')\n",
    "gray=cv.cvtColor(img,cv.COLOR_BGR2GRAY)\n",
    "plt.imshow(gray)\n",
    "#gray\n",
    "#print(img1.shape)\n",
    "#print(img.shape)"
   ]
  },
  {
   "cell_type": "code",
   "execution_count": null,
   "metadata": {},
   "outputs": [],
   "source": [
    "%matplotlib inline\n",
    "faces=face_cascade.detectMultiScale(gray,1.3,5)\n",
    "for (x,y,w,h) in faces:\n",
    "    cv.rectangle(img,(x,y),(x+w,y+h),(255,0,0),2)\n",
    "    roi_gray=gray[y:y+h,x:x+w]\n",
    "    roi_color=img[y:y+h,x:x+w]\n",
    "    #applying eyes cascade\n",
    "    eyes=eye_cascade.detectMultiScale(roi_gray)\n",
    "    for(ex,ey,ew,eh) in eyes:\n",
    "        cv.rectangle(roi_color,(ex,ey),(ex+ew,ey+eh),(0,255,0),2)\n",
    "\n",
    "cv.imshow('img',img)\n",
    "plt.imshow(img)\n",
    "cv.waitKey(0)\n",
    "cv.destroyAllWindows()"
   ]
  },
  {
   "cell_type": "code",
   "execution_count": 10,
   "metadata": {},
   "outputs": [
    {
     "data": {
      "text/plain": [
       "<matplotlib.image.AxesImage at 0x7f386abede80>"
      ]
     },
     "execution_count": 10,
     "metadata": {},
     "output_type": "execute_result"
    },
    {
     "data": {
      "image/png": "[encoded data removed]",
      "text/plain": [
       "<Figure size 432x288 with 1 Axes>"
      ]
     },
     "metadata": {
      "needs_background": "light"
     },
     "output_type": "display_data"
    }
   ],
   "source": [
    "#----Hue histogram-----\n",
    "img=read_image(\"anim_solo1.jpg\")\n",
    "\n",
    "hsv=cv.cvtColor(img,cv.COLOR_BGR2HSV)\n",
    "hist=cv.calcHist([hsv],[0, 1],None,[180,256],[0,180,0,256])\n",
    "plt.imshow(img)\n",
    "plt.imshow(hist)"
   ]
  },
  {
   "cell_type": "code",
   "execution_count": 3,
   "metadata": {},
   "outputs": [],
   "source": [
    "###----Downloading images from site-------(safebooru/solo)\n",
    "\n",
    "from six.moves import urllib\n",
    "from bs4 import BeautifulSoup #for webscrapping\n",
    "import urllib3\n",
    "\n",
    "http=urllib3.PoolManager()\n",
    "url=\"https://safebooru.org/index.php?page=post&s=list&tags=solo\"\n",
    "#url=\"https://safebooru.org/index.php?page=post&s=list&tags=solo\" #url of the page has images\n",
    "#html=urllib.request.urlretrieve(url)\n",
    "html=http.request('GET',url)\n",
    "soup=BeautifulSoup(html,\"lxml\")\n",
    "\n",
    "imgs=soup.findAll(\"div\",{\"class\":\"preview\"})\n",
    "for img in imgs:\n",
    "    print(img.a[\"href\"].split(\"imgurl=\")[1])"
   ]
  },
  {
   "cell_type": "code",
   "execution_count": null,
   "metadata": {},
   "outputs": [],
   "source": [
    "/usr/lib/python3/dist-packages/bs4/__init__.py:166: UserWarning: No parser was explicitly specified, so I'm using the best available HTML parser for this system (\"lxml\"). This usually isn't a problem, but if you run this code on another system, or in a different virtual environment, it may use a different parser and behave differently.\n",
    "\n",
    "To get rid of this warning, change this:\n",
    "\n",
    " BeautifulSoup([your markup])\n",
    "\n",
    "to this:\n",
    "\n",
    " BeautifulSoup([your markup], \"lxml\")\n",
    "\n",
    "  markup_type=markup_type))\n",
    "\n"
   ]
  },
  {
   "cell_type": "code",
   "execution_count": null,
   "metadata": {},
   "outputs": [],
   "source": []
  }
 ],
 "metadata": {
  "kernelspec": {
   "display_name": "Python 3",
   "language": "python",
   "name": "python3"
  },
  "language_info": {
   "codemirror_mode": {
    "name": "ipython",
    "version": 3
   },
   "file_extension": ".py",
   "mimetype": "text/x-python",
   "name": "python",
   "nbconvert_exporter": "python",
   "pygments_lexer": "ipython3",
   "version": "3.5.2"
  }
 },
 "nbformat": 4,
 "nbformat_minor": 2
}
