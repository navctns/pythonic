{
 "cells": [
  {
   "cell_type": "code",
   "execution_count": 4,
   "metadata": {},
   "outputs": [],
   "source": [
    "from keras.models import Sequential\n",
    "from keras.utils import np_utils\n",
    "from keras.layers.core import Dense,Activation,Dropout\n",
    "\n",
    "import pandas as pd\n",
    "import numpy as np\n",
    "\n"
   ]
  },
  {
   "cell_type": "code",
   "execution_count": 7,
   "metadata": {},
   "outputs": [],
   "source": [
    "#Read data\n",
    "\n",
    "train=pd.read_csv(\"/home/naveen/datasets/digit-recognizer/train.csv\")\n",
    "labels=train.ix[:,0].values.astype('int32')\n",
    "X_train=(train.ix[:,1:].values).astype('float32')#since the labels in the first column\n",
    "X_test=(pd.read_csv(\"/home/naveen/datasets/digit-recognizer/test.csv\").values).astype('float32')\n",
    "\n",
    "#convert list of labels to binary class matrix\n",
    "y_train=np_utils.to_categorical(labels)\n",
    "\n",
    "#pre-processing: divide by max and subtract mean\n",
    "\n",
    "scale=np.max(X_train)\n",
    "X_train/=scale\n",
    "X_test/=scale\n",
    "\n",
    "mean=np.std(X_train)\n",
    "X_train-=mean\n",
    "X_test-=mean\n",
    "\n",
    "input_dim=X_train.shape[1]\n",
    "nb_classes=y_train.shape[1]\n",
    "#X_train.shape\n",
    "\n"
   ]
  },
  {
   "cell_type": "code",
   "execution_count": 12,
   "metadata": {},
   "outputs": [
    {
     "name": "stdout",
     "output_type": "stream",
     "text": [
      "Training\n",
      "WARNING:tensorflow:From /home/naveen/venv/local/lib/python3.5/site-packages/tensorflow/python/ops/math_ops.py:3066: to_int32 (from tensorflow.python.ops.math_ops) is deprecated and will be removed in a future version.\n",
      "Instructions for updating:\n",
      "Use tf.cast instead.\n"
     ]
    },
    {
     "name": "stderr",
     "output_type": "stream",
     "text": [
      "/home/naveen/venv/local/lib/python3.5/site-packages/ipykernel_launcher.py:19: UserWarning: The `nb_epoch` argument in `fit` has been renamed `epochs`.\n"
     ]
    },
    {
     "name": "stdout",
     "output_type": "stream",
     "text": [
      "Train on 37800 samples, validate on 4200 samples\n",
      "Epoch 1/10\n",
      " - 13s - loss: 0.3717 - val_loss: 0.2343\n",
      "Epoch 2/10\n",
      " - 10s - loss: 0.2145 - val_loss: 0.1968\n",
      "Epoch 3/10\n",
      " - 10s - loss: 0.1844 - val_loss: 0.1652\n",
      "Epoch 4/10\n",
      " - 10s - loss: 0.1794 - val_loss: 0.1514\n",
      "Epoch 5/10\n",
      " - 10s - loss: 0.1749 - val_loss: 0.1636\n",
      "Epoch 6/10\n",
      " - 10s - loss: 0.1807 - val_loss: 0.1803\n",
      "Epoch 7/10\n",
      " - 11s - loss: 0.1802 - val_loss: 0.1866\n",
      "Epoch 8/10\n",
      " - 11s - loss: 0.1806 - val_loss: 0.2339\n",
      "Epoch 9/10\n",
      " - 10s - loss: 0.1930 - val_loss: 0.1898\n",
      "Epoch 10/10\n",
      " - 12s - loss: 0.1816 - val_loss: 0.1878\n",
      "Generating test predictions...\n"
     ]
    }
   ],
   "source": [
    "#Here's a Deep Dumb MLP (DD MLP)\n",
    "\n",
    "model=Sequential()#the model\n",
    "model.add(Dense(128,input_dim=input_dim))\n",
    "model.add(Activation('relu'))\n",
    "model.add(Dropout(0.15))\n",
    "model.add(Dense(128))\n",
    "model.add(Activation('relu'))\n",
    "model.add(Dropout(0.15))\n",
    "model.add(Dense(nb_classes))\n",
    "model.add(Activation('softmax'))\n",
    "\n",
    "#we'll use categorical xent for the loss, and RMSprop as the optimizer\n",
    "model.compile(loss='categorical_crossentropy',optimizer='rmsprop')\n",
    "\n",
    "print(\"Training\")\n",
    "\n",
    "model.fit(X_train,y_train,nb_epoch=10,batch_size=16,\n",
    "         validation_split=0.1,verbose=2)#removein a parameter show_accuracy=True\n",
    "                                                        #for some reason may be because of the version of keras\n",
    "\n",
    "print(\"Generating test predictions...\")\n",
    "\n",
    "preds=model.predict_classes(X_test,verbose=0)\n",
    "\n",
    "def write_preds(preds,fname):\n",
    "    pd.DataFrame({\"ImageId\":list(range(1,len(preds)+1)),\"Label\":preds}).to_csv(fname,index=False,header=True)\n",
    "    \n",
    "write_preds(preds,\"keras-mlp.csv\")"
   ]
  },
  {
   "cell_type": "code",
   "execution_count": null,
   "metadata": {},
   "outputs": [],
   "source": []
  }
 ],
 "metadata": {
  "kernelspec": {
   "display_name": "Python 3",
   "language": "python",
   "name": "python3"
  },
  "language_info": {
   "codemirror_mode": {
    "name": "ipython",
    "version": 3
   },
   "file_extension": ".py",
   "mimetype": "text/x-python",
   "name": "python",
   "nbconvert_exporter": "python",
   "pygments_lexer": "ipython3",
   "version": "3.5.2"
  }
 },
 "nbformat": 4,
 "nbformat_minor": 2
}
