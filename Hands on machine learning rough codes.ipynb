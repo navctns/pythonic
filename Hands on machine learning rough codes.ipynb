{
 "cells": [
  {
   "cell_type": "code",
   "execution_count": null,
   "metadata": {},
   "outputs": [],
   "source": [
    "#read the csv using pandas\n",
    "import pandas as pd\n",
    "\n",
    "path='/home/naveen/ml/housing.csv'\n",
    "def load_housing_data(path=path):\n",
    "    #read the csv file\n",
    "    return pd.read_csv(path)\n",
    "#load_housing_data()\n",
    "#dataset=pd.read_csv(\"housing.csv\")\n",
    "data=pd.read_csv(\"housing.csv\",error_bad_lines=False)\n",
    "data"
   ]
  }
 ],
 "metadata": {
  "kernelspec": {
   "display_name": "Python 3",
   "language": "python",
   "name": "python3"
  },
  "language_info": {
   "codemirror_mode": {
    "name": "ipython",
    "version": 3
   },
   "file_extension": ".py",
   "mimetype": "text/x-python",
   "name": "python",
   "nbconvert_exporter": "python",
   "pygments_lexer": "ipython3",
   "version": "3.5.2"
  }
 },
 "nbformat": 4,
 "nbformat_minor": 2
}
